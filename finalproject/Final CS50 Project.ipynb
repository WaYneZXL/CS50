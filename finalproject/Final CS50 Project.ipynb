{
 "cells": [
  {
   "cell_type": "markdown",
   "metadata": {
    "slideshow": {
     "slide_type": "slide"
    }
   },
   "source": [
    "# Movie Revenue Forecast Tool\n",
    "\n",
    "by Shijing Liu, Victor Zhu, and Xiaolong Zhu"
   ]
  },
  {
   "cell_type": "raw",
   "metadata": {
    "slideshow": {
     "slide_type": "slide"
    }
   },
   "source": [
    "# Objectives: \n",
    "\n",
    "Our project utilizes machine learning techniques to forecast predicted revenue based on inputs given by the users.\n",
    "\n",
    "Our team decided to use linear regression and random forest algorithm to forecast revenue as they offer the best predictibility compared with the other algorithms we tested (shown in Appendix) "
   ]
  },
  {
   "attachments": {},
   "cell_type": "raw",
   "metadata": {
    "slideshow": {
     "slide_type": "slide"
    }
   },
   "source": [
    "# Our Notebook is organized as follow: \n",
    "\n",
    "#1 Clean and organize the movies and credits dataset and train our data with the required information (Run time ~4 minutes)\n",
    "\n",
    "#2 Enter user inputs (budget, runtime, movie director, actor, key words) through our interactive widgets to allow our algoritm to recalibrate\n",
    "\n",
    "#3 Retrieve user inputs in step 2 and implement random forest and linear model to generate final outputs\n",
    "\n"
   ]
  },
  {
   "cell_type": "markdown",
   "metadata": {
    "slideshow": {
     "slide_type": "slide"
    }
   },
   "source": [
    "# Step 1: Clean and train the dataset (~Run time: 3-4 minutes)"
   ]
  },
  {
   "cell_type": "code",
   "execution_count": 8,
   "metadata": {
    "scrolled": true,
    "slideshow": {
     "slide_type": "slide"
    }
   },
   "outputs": [],
   "source": [
    "# SOURCE & REFERENCES\n",
    "# https://www.kaggle.com/tmdb/tmdb-movie-metadata\n",
    "# https://www.kaggle.com/sohier/tmdb-format-introduction\n",
    "# https://www.kaggle.com/tanetboss/tmdb-classification-predict-hype-movie\n",
    "# http://cs229.stanford.edu/proj2013/vanderMerweEimon-MaximizingMovieProfit.pdf\n",
    "# https://www.analyticsvidhya.com/blog/2017/09/common-machine-learning-algorithms/\n",
    "\n",
    "import json\n",
    "import sys\n",
    "import pandas as pd\n",
    "import operator\n",
    "import numpy as np\n",
    "import seaborn as sns\n",
    "import matplotlib as mpl\n",
    "import matplotlib.pyplot as plt\n",
    "from ipywidgets import widgets\n",
    "%matplotlib inline\n",
    "\n",
    "def load_tmdb_movies(path):\n",
    "    df = pd.read_csv(path)\n",
    "    df['release_date'] = pd.to_datetime(df['release_date']).apply(lambda x: x.date())\n",
    "    json_columns = ['genres', 'keywords', 'production_countries', 'production_companies', 'spoken_languages']\n",
    "    for column in json_columns:\n",
    "        df[column] = df[column].apply(json.loads)\n",
    "    return df\n",
    "\n",
    "def load_tmdb_credits(path):\n",
    "    df = pd.read_csv(path)\n",
    "    json_columns = ['cast', 'crew']\n",
    "    for column in json_columns:\n",
    "        df[column] = df[column].apply(json.loads)\n",
    "    return df\n",
    "\n",
    "# you need to change the path and / or file names here to run on your own computer\n",
    "\n",
    "movies = load_tmdb_movies(\"../Desktop/tmdb_5000_movies.csv\")\n",
    "credits = load_tmdb_credits(\"../Desktop/tmdb_5000_credits.csv\")\n",
    "\n",
    "def safe_access(container, index_values):\n",
    "    # return a missing value rather than an error upon indexing/key failure\n",
    "    result = container\n",
    "    try:\n",
    "        for idx in index_values:\n",
    "            result = result[idx]\n",
    "        return result\n",
    "    except IndexError or KeyError:\n",
    "        return pd.np.nan\n",
    "\n",
    "# map directors \n",
    "def get_director(crew_data):\n",
    "    directors = [x['name'] for x in crew_data if x['job'] == 'Director']\n",
    "    return safe_access(directors, [0])\n",
    "\n",
    "# deal with keywords\n",
    "def pipe_flatten_names(keywords):\n",
    "    return '|'.join([x['name'] for x in keywords])\n",
    "\n",
    "# add cleaned data to the dataset\n",
    "def clean_data(movies, credits):\n",
    "    tmdb_movies = movies.copy()\n",
    "    tmdb_movies['title_year'] = pd.to_datetime(tmdb_movies['release_date']).apply(lambda x: x.year)\n",
    "    tmdb_movies['country'] = tmdb_movies['production_countries'].apply(lambda x: safe_access(x, [0, 'name']))\n",
    "    tmdb_movies['language'] = tmdb_movies['spoken_languages'].apply(lambda x: safe_access(x, [0, 'name']))\n",
    "    tmdb_movies['director_name'] = credits['crew'].apply(get_director)\n",
    "    tmdb_movies['actor_name'] = credits['cast'].apply(lambda x: safe_access(x, [0, 'name']))\n",
    "    tmdb_movies['studio'] = tmdb_movies['production_companies'].apply(lambda x: safe_access(x, [0, 'name']))\n",
    "    tmdb_movies['genres'] = tmdb_movies['genres'].apply(pipe_flatten_names)\n",
    "    tmdb_movies['keywords'] = tmdb_movies['keywords'].apply(pipe_flatten_names)\n",
    "    return tmdb_movies\n",
    "\n",
    "data = clean_data(movies, credits)\n",
    "\n",
    "# remove irrelevant fields\n",
    "data = data[['title','budget','revenue','genres',\n",
    "                 'runtime','keywords','original_language',\n",
    "                 'popularity','vote_count','vote_average',\n",
    "                 'country','title_year','director_name',\n",
    "                 'actor_name','studio']]\n",
    "\n",
    "# get a list of sorted genres\n",
    "genres = data['genres']\n",
    "genre_list = []\n",
    "\n",
    "for row in genres:\n",
    "    split_genre = list(map(str, row.split('|'))) \n",
    "    for genre in split_genre:\n",
    "        genre_list.append(genre)\n",
    "\n",
    "# remove the empty value\n",
    "feature_genres = list(set(genre_list))\n",
    "del feature_genres[0]\n",
    "\n",
    "# get a list of sorted keywords\n",
    "keywords = data['keywords']\n",
    "keyword_list = []\n",
    "\n",
    "for row in keywords:\n",
    "    split_keyword = list(map(str, row.split('|'))) \n",
    "    for keyword in split_keyword:\n",
    "        keyword_list.append(keyword)    \n",
    "\n",
    "# sort keywords\n",
    "keywords = dict((s,keyword_list.count(s)) for s in set(keyword_list))\n",
    "sorted_keywords = sorted(keywords.items(), key=operator.itemgetter(1), reverse=True)\n",
    "\n",
    "feature_keywords = [x[0] for x in sorted_keywords]\n",
    "del feature_keywords[0]\n",
    "\n",
    "# select top 20 keywords\n",
    "top_keywords = feature_keywords[0:20]\n",
    "\n",
    "# get top directors and group them in different groups\n",
    "directors = data['director_name']\n",
    "directors = list(directors)\n",
    "\n",
    "director = dict((s,directors.count(s)) for s in set(directors))\n",
    "sorted_directors = sorted(director.items(), key=operator.itemgetter(1), reverse=True)\n",
    "\n",
    "feature_directors = [x[0] for x in sorted_directors]\n",
    "del feature_directors[0]\n",
    "\n",
    "top_20_directors = feature_directors[0:19]\n",
    "top_40_directors = feature_directors[20:39]\n",
    "top_60_directors = feature_directors[40:59]\n",
    "top_80_directors = feature_directors[60:79]\n",
    "top_100_directors = feature_directors[80:99]\n",
    "\n",
    "director_list = top_20_directors+ top_40_directors+ top_60_directors+ top_80_directors+ top_100_directors\n",
    "\n",
    "# get top actors and group them in different groups\n",
    "actors = data['actor_name']\n",
    "actors = list(actors)\n",
    "\n",
    "actor = dict((s,actors.count(s)) for s in set(actors))\n",
    "sorted_actors = sorted(actor.items(), key=operator.itemgetter(1), reverse=True)\n",
    "\n",
    "feature_actors = [x[0] for x in sorted_actors]\n",
    "del feature_actors[0]\n",
    "\n",
    "top_20_actors = feature_actors[0:19]\n",
    "top_40_actors = feature_actors[20:39]\n",
    "top_60_actors = feature_actors[40:59]\n",
    "top_80_actors = feature_actors[60:79]\n",
    "top_100_actors = feature_actors[80:99]\n",
    "\n",
    "actor_list = top_20_actors+ top_40_actors+ top_60_actors+ top_80_actors+ top_100_actors\n",
    "\n",
    "# get top studios and create 2 groups\n",
    "studios = data['studio']\n",
    "studios = list(studios)\n",
    "\n",
    "studio = dict((s,studios.count(s)) for s in set(studios))\n",
    "sorted_studios = sorted(studio.items(), key=operator.itemgetter(1), reverse=True)\n",
    "\n",
    "feature_studios = [x[0] for x in sorted_studios]\n",
    "del feature_studios[0]\n",
    "\n",
    "top_20_studios = feature_studios[0:19]\n",
    "top_50_studios = feature_studios[20:49]\n",
    "\n",
    "studio_list = top_20_studios+ top_50_studios\n",
    "\n",
    "# add genre, keyword, director, etc values to the dataset, \n",
    "# value will be 1 if the move is in this genre / director / actor / etc. , 0 if not\n",
    "\n",
    "data['director_name'] = data['director_name'].astype(str)\n",
    "data['actor_name'] = data['actor_name'].astype(str)\n",
    "data['studio'] = data['studio'].astype(str)\n",
    "\n",
    "# directors = data['director_name']\n",
    "# actors = data['actor_name']\n",
    "# studios = data['studio']\n",
    "\n",
    "for genre in feature_genres:\n",
    "    data[genre] = data['genres'].map(lambda s: 1 if genre in s else 0)\n",
    "\n",
    "for keyword in top_keywords:\n",
    "    data[keyword] = data['keywords'].map(lambda s: 1 if keyword in s else 0)\n",
    "        \n",
    "for director in directors:\n",
    "    data['top_20_directors'] = data['director_name'].apply(lambda x: 1 if x in top_20_directors else 0)\n",
    "    data['top_40_directors'] = data['director_name'].apply(lambda x: 1 if x in top_40_directors else 0)\n",
    "    data['top_60_directors'] = data['director_name'].apply(lambda x: 1 if x in top_60_directors else 0)\n",
    "    data['top_80_directors'] = data['director_name'].apply(lambda x: 1 if x in top_80_directors else 0)\n",
    "    data['top_100_directors'] = data['director_name'].apply(lambda x: 1 if x in top_100_directors else 0)\n",
    "\n",
    "for actor in actors:\n",
    "    data['top_20_actors'] = data['actor_name'].apply(lambda x: 1 if x in top_20_actors else 0)\n",
    "    data['top_40_actors'] = data['actor_name'].apply(lambda x: 1 if x in top_40_actors else 0)\n",
    "    data['top_60_actors'] = data['actor_name'].apply(lambda x: 1 if x in top_60_actors else 0)\n",
    "    data['top_80_actors'] = data['actor_name'].apply(lambda x: 1 if x in top_80_actors else 0)\n",
    "    data['top_100_actors'] = data['actor_name'].apply(lambda x: 1 if x in top_100_actors else 0)\n",
    "\n",
    "for studio in studios:\n",
    "    data['top_20_studios'] = data['studio'].apply(lambda x: 1 if x in top_20_studios else 0)\n",
    "    data['top_50_studios'] = data['studio'].apply(lambda x: 1 if x in top_50_studios else 0)\n",
    "\n",
    "# drop non numerical features\n",
    "df = data.drop(['title','genres','keywords','original_language','country','director_name','actor_name','studio','title_year'], axis = 1)\n",
    "\n",
    "# remove rows with 0 revenue\n",
    "df = df[data.revenue != 0]\n",
    "#df = df.drop([''], axis=1)\n",
    "\n",
    "from sklearn.model_selection import cross_val_score\n",
    "from sklearn.model_selection import train_test_split # to split the data into two parts\n",
    "\n",
    "# get a list of features\n",
    "features = list(df)\n",
    "del features[1]\n",
    "\n",
    "target = ['revenue']\n",
    "\n",
    "#splitting data set into training and test data set in 0.7/0.3\n",
    "train, test = train_test_split(df,test_size=0.30)\n",
    "\n",
    "train = train.apply(pd.to_numeric, errors='coerce')\n",
    "test = test.apply(pd.to_numeric, errors='coerce')\n",
    "\n",
    "train.fillna(\"\", inplace=True)\n",
    "test.fillna(\"\", inplace=True)\n",
    "\n",
    "#Fill the training and test data with require information\n",
    "X_train = train[features]\n",
    "Y_train = train[target]\n",
    "Y_train = Y_train.values.ravel()\n",
    "X_test = test[features]\n",
    "Y_test = test[target]\n",
    "\n",
    "# Linear regression\n",
    "from sklearn import linear_model # compute classification accuracy for the linear regression model\n",
    "\n",
    "linear_model = linear_model.LinearRegression()\n",
    "linear_model.fit(X_train, Y_train)\n",
    "score = cross_val_score(linear_model, X_train, Y_train, cv=3)\n",
    "score_linear_mean = score.mean()\n",
    "score_linear_std = score.std()\n",
    "\n",
    "# Random forest\n",
    "from sklearn.ensemble import RandomForestRegressor\n",
    "\n",
    "rfr_model = RandomForestRegressor()\n",
    "rfr_model.fit(X_train, Y_train)\n",
    "score = cross_val_score(rfr_model, X_train, Y_train, cv=3)\n",
    "score_rfr_mean = score.mean()\n",
    "score_rfr_std = score.std()"
   ]
  },
  {
   "cell_type": "markdown",
   "metadata": {
    "slideshow": {
     "slide_type": "slide"
    }
   },
   "source": [
    "# Step 2 : Enter user inputs through our interactive widgets below (Runtime ~ 1 minute)"
   ]
  },
  {
   "cell_type": "code",
   "execution_count": 5,
   "metadata": {
    "slideshow": {
     "slide_type": "slide"
    }
   },
   "outputs": [
    {
     "data": {
      "application/vnd.jupyter.widget-view+json": {
       "model_id": "847b01c952454e8ea93821fdb0700cce",
       "version_major": 2,
       "version_minor": 0
      },
      "text/plain": [
       "A Jupyter Widget"
      ]
     },
     "metadata": {},
     "output_type": "display_data"
    },
    {
     "data": {
      "application/vnd.jupyter.widget-view+json": {
       "model_id": "32c9234d7e7141a0a83a6e870e74e932",
       "version_major": 2,
       "version_minor": 0
      },
      "text/plain": [
       "A Jupyter Widget"
      ]
     },
     "metadata": {},
     "output_type": "display_data"
    },
    {
     "data": {
      "application/vnd.jupyter.widget-view+json": {
       "model_id": "c1684ea56b9343259fbe34cdc9777f48",
       "version_major": 2,
       "version_minor": 0
      },
      "text/plain": [
       "A Jupyter Widget"
      ]
     },
     "metadata": {},
     "output_type": "display_data"
    },
    {
     "data": {
      "application/vnd.jupyter.widget-view+json": {
       "model_id": "cd208505c54748d7995ad9b0a428cffa",
       "version_major": 2,
       "version_minor": 0
      },
      "text/plain": [
       "A Jupyter Widget"
      ]
     },
     "metadata": {},
     "output_type": "display_data"
    },
    {
     "data": {
      "application/vnd.jupyter.widget-view+json": {
       "model_id": "897f8f66e3044e3fa8a3d1c90bd694ae",
       "version_major": 2,
       "version_minor": 0
      },
      "text/plain": [
       "A Jupyter Widget"
      ]
     },
     "metadata": {},
     "output_type": "display_data"
    },
    {
     "data": {
      "application/vnd.jupyter.widget-view+json": {
       "model_id": "94bde80f4c29411ab5588aa7e4d5ec67",
       "version_major": 2,
       "version_minor": 0
      },
      "text/plain": [
       "A Jupyter Widget"
      ]
     },
     "metadata": {},
     "output_type": "display_data"
    },
    {
     "data": {
      "application/vnd.jupyter.widget-view+json": {
       "model_id": "8c76fe3624194c24beac2f23e02ffee4",
       "version_major": 2,
       "version_minor": 0
      },
      "text/plain": [
       "A Jupyter Widget"
      ]
     },
     "metadata": {},
     "output_type": "display_data"
    },
    {
     "data": {
      "application/vnd.jupyter.widget-view+json": {
       "model_id": "bc882fd6d3194624a87592f0ffeabe14",
       "version_major": 2,
       "version_minor": 0
      },
      "text/plain": [
       "A Jupyter Widget"
      ]
     },
     "metadata": {},
     "output_type": "display_data"
    },
    {
     "data": {
      "application/vnd.jupyter.widget-view+json": {
       "model_id": "06295982af824ac2835c4568289f2a69",
       "version_major": 2,
       "version_minor": 0
      },
      "text/plain": [
       "A Jupyter Widget"
      ]
     },
     "metadata": {},
     "output_type": "display_data"
    },
    {
     "data": {
      "application/vnd.jupyter.widget-view+json": {
       "model_id": "db03b8c42ab14729a3ca1be3221724a0",
       "version_major": 2,
       "version_minor": 0
      },
      "text/plain": [
       "A Jupyter Widget"
      ]
     },
     "metadata": {},
     "output_type": "display_data"
    }
   ],
   "source": [
    "from __future__ import print_function\n",
    "from ipywidgets import interact, interactive, fixed, interact_manual\n",
    "import ipywidgets as widgets\n",
    "\n",
    "#budget\n",
    "w_budget = widgets.Text(    \n",
    "    description='Budget:',)\n",
    "\n",
    "def on_change(value):\n",
    "    print (w_budget.value)\n",
    "\n",
    "#runtime\n",
    "w_runtime = widgets.Text(    \n",
    "    description='Runtime:',)\n",
    "\n",
    "def on_change(value):\n",
    "    print (w_runtime.value)\n",
    "\n",
    "\n",
    "#popularity\n",
    "w_popularity = widgets.IntSlider(\n",
    "    value=200,\n",
    "    min=0,\n",
    "    max=1000,\n",
    "    step=50,\n",
    "    description='Popularity:',\n",
    "    disabled=False,\n",
    "    continuous_update=False,\n",
    "    orientation='horizontal',\n",
    "    readout=True,\n",
    "    readout_format='d')\n",
    "\n",
    "def on_change(value):\n",
    "    print (w_popularity.value)\n",
    "\n",
    "#vote_count\n",
    "w_vote_count = widgets.IntSlider(\n",
    "    value=5000,\n",
    "    min=0,\n",
    "    max=20000,\n",
    "    step=500,\n",
    "    description='Vote Count:',\n",
    "    disabled=False,\n",
    "    continuous_update=False,\n",
    "    orientation='horizontal',\n",
    "    readout=True,\n",
    "    readout_format='d')\n",
    "\n",
    "def on_change(value):\n",
    "    print (w_vote_count.value)\n",
    "\n",
    "\n",
    "# vote_average\n",
    "w_vote_ave = widgets.FloatSlider(\n",
    "    value=7.0,\n",
    "    min=0,\n",
    "    max=10.0,\n",
    "    step=0.1,\n",
    "    description='Vote Average:',\n",
    "    disabled=False,\n",
    "    continuous_update=False,\n",
    "    orientation='horizontal',\n",
    "    readout=True,\n",
    "    readout_format='.1f',\n",
    ")\n",
    "\n",
    "def on_change(value):\n",
    "    print (w_vote_ave.value)\n",
    "\n",
    "\n",
    "# genre dropdown\n",
    "w_genre = widgets.Dropdown(\n",
    "    options = feature_genres,\n",
    "    value='Action',\n",
    "    description='Genre:',)\n",
    "\n",
    "def on_change(value):\n",
    "    print (w_genre.value)\n",
    "\n",
    "w_genre.observe(on_change,\"value\")\n",
    "\n",
    "# keywords dropdown\n",
    "w_keywords = widgets.Dropdown(\n",
    "    options= top_keywords,\n",
    "    value='woman director',    \n",
    "    description='Keywords:',)\n",
    "\n",
    "def on_change(value):\n",
    "    print (w_keywords.value)\n",
    "    \n",
    "w_keywords.observe(on_change,\"value\")\n",
    "\n",
    "\n",
    "# director dropdown\n",
    "w_directors = widgets.Dropdown(\n",
    "    options= director_list,\n",
    "    value='Steven Spielberg',    \n",
    "    description='Director:',)\n",
    "\n",
    "def on_change(value):\n",
    "    print (w_directors.value)\n",
    "\n",
    "w_directors.observe(on_change,\"value\")\n",
    "\n",
    "\n",
    "# actor dropdown\n",
    "w_actors = widgets.Dropdown(\n",
    "    options= actor_list,\n",
    "    value='Ryan Gosling',    \n",
    "    description='Actor:',)\n",
    "\n",
    "def on_change(value):\n",
    "    print (w_actors.value)\n",
    "\n",
    "w_actors.observe(on_change,\"value\")\n",
    "\n",
    "\n",
    "# Studio dropdown\n",
    "w_studio = widgets.Dropdown(\n",
    "    options= studio_list,\n",
    "    value='Lions Gate Films',    \n",
    "    description='Studio:',)\n",
    "\n",
    "def on_change(value):\n",
    "    print (w_studio.value)\n",
    "\n",
    "w_studio.observe(on_change,\"value\")\n",
    "\n",
    "\n",
    "display(w_budget)\n",
    "display(w_runtime)\n",
    "display(w_popularity)\n",
    "display(w_vote_count)\n",
    "display(w_vote_ave)\n",
    "display(w_genre)\n",
    "display(w_keywords)\n",
    "display(w_directors)\n",
    "display(w_actors)\n",
    "display(w_studio)\n"
   ]
  },
  {
   "cell_type": "markdown",
   "metadata": {
    "slideshow": {
     "slide_type": "slide"
    }
   },
   "source": [
    "# Step 3: Print Predicted Revenue based on User Inputs in Step 2"
   ]
  },
  {
   "cell_type": "code",
   "execution_count": 9,
   "metadata": {
    "slideshow": {
     "slide_type": "slide"
    }
   },
   "outputs": [
    {
     "data": {
      "image/png": "[encoded data removed]",
      "text/plain": [
       "<matplotlib.figure.Figure at 0x1a2111a8d0>"
      ]
     },
     "metadata": {},
     "output_type": "display_data"
    }
   ],
   "source": [
    "# get data from user inputs\n",
    "test_genre = w_genre.value\n",
    "test_kw = w_keywords.value\n",
    "test_director = w_directors.value\n",
    "test_actor = w_actors.value\n",
    "test_studio = w_studio.value\n",
    "test_vote_ave = w_vote_ave.value\n",
    "test_budget = w_budget.value\n",
    "test_runtime = w_runtime.value\n",
    "test_popularity = w_popularity.value\n",
    "test_vote_count = w_vote_count.value\n",
    "\n",
    "# create a dummy test dataset here\n",
    "labels = list(X_test)\n",
    "\n",
    "test_df = pd.DataFrame(columns=labels)\n",
    "test_data = [0] * len(labels)\n",
    "\n",
    "test_df.loc[0] = test_data\n",
    "\n",
    "# input budget\n",
    "budget_index = labels.index(\"budget\")\n",
    "test_data[budget_index] = test_budget\n",
    "\n",
    "# input runtime\n",
    "runtime_index = labels.index(\"runtime\")\n",
    "test_data[runtime_index] = test_runtime\n",
    "\n",
    "# input popularity\n",
    "popularity_index = labels.index(\"popularity\")\n",
    "test_data[popularity_index] = test_popularity\n",
    "\n",
    "# input vote_count\n",
    "vote_count_index = labels.index(\"vote_count\")\n",
    "test_data[vote_count_index] = test_vote_count\n",
    "\n",
    "# input vote_average\n",
    "vote_average_index = labels.index(\"vote_average\")\n",
    "test_data[vote_average_index] = test_vote_ave\n",
    "\n",
    "# input genre\n",
    "if test_genre in labels:\n",
    "    genre_index = labels.index(test_genre)\n",
    "    test_data[genre_index] = 1\n",
    "\n",
    "# input key words\n",
    "if test_kw in keyword_list:\n",
    "    key_words_index = labels.index(test_kw)\n",
    "    test_data[key_words_index] = 1\n",
    "\n",
    "# input directors\n",
    "if test_director in top_20_directors:\n",
    "    director_index = labels.index(\"top_20_directors\")\n",
    "    test_data[director_index] = 1\n",
    "elif test_director in top_40_directors:\n",
    "    director_index = labels.index(\"top_40_directors\")\n",
    "    test_data[director_index] = 1\n",
    "elif test_director in top_60_directors:\n",
    "    director_index = labels.index(\"top_60_directors\")\n",
    "    test_data[director_index] = 1\n",
    "elif test_director in top_80_directors:\n",
    "    director_index = labels.index(\"top_80_directors\")\n",
    "    test_data[director_index] = 1\n",
    "elif test_director in top_100_directors:\n",
    "    director_index = labels.index(\"top_100_directors\")\n",
    "    test_data[director_index] = 1\n",
    "\n",
    "# input actors\n",
    "if test_actor in top_20_actors:\n",
    "    actor_index = labels.index(\"top_20_actors\")\n",
    "    test_data[actor_index] = 1\n",
    "elif test_actor in top_40_actors:\n",
    "    actor_index = labels.index(\"top_40_actors\")\n",
    "    test_data[actor_index] = 1\n",
    "elif test_actor in top_60_actors:\n",
    "    actor_index = labels.index(\"top_60_actors\")\n",
    "    test_data[actor_index] = 1\n",
    "elif test_actor in top_80_actors:\n",
    "    actor_index = labels.index(\"top_80_actors\")\n",
    "    test_data[actor_index] = 1\n",
    "elif test_actor in top_100_actors:\n",
    "    actor_index = labels.index(\"top_100_actors\")\n",
    "    test_data[actor_index] = 1\n",
    "\n",
    "# input studios\n",
    "if test_studio in top_20_studios:\n",
    "    studio_index = labels.index(\"top_20_studios\")\n",
    "    test_data[studio_index] = 1\n",
    "elif test_studio in top_50_studios:\n",
    "    studio_index = labels.index(\"top_50_studios\")\n",
    "    test_data[studio_index] = 1\n",
    "\n",
    "test_df.loc[0] = test_data\n",
    "    \n",
    "test_df = test_df.apply(pd.to_numeric, errors='coerce')\n",
    "\n",
    "\n",
    "# make predictions\n",
    "linear_predicted = int(linear_model.predict(test_df)/1000000)\n",
    "rfr_predicted = int(rfr_model.predict(test_df)/1000000)\n",
    "\n",
    "# print (\"Predicted box office:\", rfr_predicted, \"million USD\")\n",
    "\n",
    "predictions = []\n",
    "predictions.append(linear_predicted)\n",
    "predictions.append(rfr_predicted)\n",
    "\n",
    "# print(predictions)\n",
    "\n",
    "new_data = pd.DataFrame({\"Predictions\":predictions,\"Algorithm\":[\"Linear Regression\",\"Random Forest\"]})\n",
    "\n",
    "# print(new_data)\n",
    "\n",
    "g = sns.barplot(\"Predictions\",\"Algorithm\",data = new_data, palette=\"Set3\",orient = \"h\")\n",
    "g.set_xlabel(\"Predictions (in $ millions)\")\n",
    "g = g.set_title(\"Predicted Revenues\")"
   ]
  },
  {
   "cell_type": "markdown",
   "metadata": {
    "slideshow": {
     "slide_type": "slide"
    }
   },
   "source": [
    "# Conclusion : Random Forest and Linear Regression offers higher predictibility than the other algorithms we tested"
   ]
  },
  {
   "cell_type": "markdown",
   "metadata": {
    "slideshow": {
     "slide_type": "slide"
    }
   },
   "source": [
    "# Appendix - Codes for Logistic, SVM, Naives Bayes, Decision Tree"
   ]
  },
  {
   "cell_type": "code",
   "execution_count": 10,
   "metadata": {
    "slideshow": {
     "slide_type": "slide"
    }
   },
   "outputs": [
    {
     "name": "stderr",
     "output_type": "stream",
     "text": [
      "/anaconda3/lib/python3.6/site-packages/sklearn/model_selection/_split.py:605: Warning: The least populated class in y has only 1 members, which is too few. The minimum number of members in any class cannot be less than n_splits=3.\n",
      "  % (min_groups, self.n_splits)), Warning)\n"
     ]
    }
   ],
   "source": [
    "# Logistic Regression\n",
    "from sklearn.linear_model import LogisticRegression\n",
    "\n",
    "logr_model = LogisticRegression()\n",
    "logr_model.fit(X_train, Y_train)\n",
    "score = cross_val_score(logr_model, X_train, Y_train, cv=3)\n",
    "score_logr_mean = score.mean()\n",
    "score_logr_std = score.std()\n"
   ]
  },
  {
   "cell_type": "code",
   "execution_count": 11,
   "metadata": {
    "slideshow": {
     "slide_type": "slide"
    }
   },
   "outputs": [
    {
     "name": "stderr",
     "output_type": "stream",
     "text": [
      "/anaconda3/lib/python3.6/site-packages/sklearn/model_selection/_split.py:605: Warning: The least populated class in y has only 1 members, which is too few. The minimum number of members in any class cannot be less than n_splits=3.\n",
      "  % (min_groups, self.n_splits)), Warning)\n"
     ]
    }
   ],
   "source": [
    "# Support Vector Machine\n",
    "from sklearn import svm\n",
    "\n",
    "svm_model = svm.SVC()\n",
    "svm_model.fit(X_train, Y_train)\n",
    "score = cross_val_score(svm_model, X_train, Y_train, cv=3)\n",
    "score_svm_mean = score.mean()\n",
    "score_svm_std = score.std()"
   ]
  },
  {
   "cell_type": "code",
   "execution_count": 12,
   "metadata": {
    "slideshow": {
     "slide_type": "slide"
    }
   },
   "outputs": [
    {
     "name": "stderr",
     "output_type": "stream",
     "text": [
      "/anaconda3/lib/python3.6/site-packages/sklearn/model_selection/_split.py:605: Warning: The least populated class in y has only 1 members, which is too few. The minimum number of members in any class cannot be less than n_splits=3.\n",
      "  % (min_groups, self.n_splits)), Warning)\n"
     ]
    }
   ],
   "source": [
    "# Native Bayes modelfrom sklearn.naive_bayes import GaussianNB\n",
    "from sklearn.naive_bayes import GaussianNB\n",
    "\n",
    "gnb_model = GaussianNB()\n",
    "gnb_model.fit(X_train, Y_train)\n",
    "score = cross_val_score(gnb_model, X_train, Y_train, cv=3)\n",
    "score_gnb_mean = score.mean()\n",
    "score_gnb_std = score.std()"
   ]
  },
  {
   "cell_type": "code",
   "execution_count": 13,
   "metadata": {
    "slideshow": {
     "slide_type": "slide"
    }
   },
   "outputs": [
    {
     "name": "stderr",
     "output_type": "stream",
     "text": [
      "/anaconda3/lib/python3.6/site-packages/sklearn/model_selection/_split.py:605: Warning: The least populated class in y has only 1 members, which is too few. The minimum number of members in any class cannot be less than n_splits=3.\n",
      "  % (min_groups, self.n_splits)), Warning)\n"
     ]
    }
   ],
   "source": [
    "# decision tree\n",
    "from sklearn import tree\n",
    "\n",
    "dt_model = tree.DecisionTreeClassifier( max_depth=10, min_samples_leaf=5)\n",
    "dt_model.fit(X_train, Y_train)\n",
    "score = cross_val_score(dt_model, X_train, Y_train, cv=3)\n",
    "score_dt_mean = score.mean()\n",
    "score_dt_std = score.std()"
   ]
  },
  {
   "cell_type": "markdown",
   "metadata": {
    "slideshow": {
     "slide_type": "slide"
    }
   },
   "source": [
    "# Comparision Report "
   ]
  },
  {
   "cell_type": "code",
   "execution_count": 14,
   "metadata": {
    "collapsed": true,
    "slideshow": {
     "slide_type": "slide"
    }
   },
   "outputs": [],
   "source": [
    "means = []\n",
    "means.append(score_linear_mean)\n",
    "means.append(score_logr_mean)\n",
    "means.append(score_rfr_mean)\n",
    "means.append(score_svm_mean)\n",
    "means.append(score_gnb_mean)\n",
    "means.append(score_dt_mean)\n",
    "\n",
    "stds = []\n",
    "stds.append(score_linear_std)\n",
    "stds.append(score_logr_std)\n",
    "stds.append(score_rfr_std)\n",
    "stds.append(score_svm_std)\n",
    "stds.append(score_gnb_std)\n",
    "stds.append(score_dt_std)"
   ]
  },
  {
   "cell_type": "code",
   "execution_count": 15,
   "metadata": {
    "slideshow": {
     "slide_type": "slide"
    }
   },
   "outputs": [
    {
     "data": {
      "text/plain": [
       "<matplotlib.axes._subplots.AxesSubplot at 0x1a21515c88>"
      ]
     },
     "execution_count": 15,
     "metadata": {},
     "output_type": "execute_result"
    },
    {
     "data": {
      "image/png": "[encoded data removed]",
      "text/plain": [
       "<matplotlib.figure.Figure at 0x1a2151c208>"
      ]
     },
     "metadata": {},
     "output_type": "display_data"
    }
   ],
   "source": [
    "comparison = pd.DataFrame({\"ACC\":means,\"Std\":stds,\"Algorithm\":[\"Linear Regression\",\"Logistic Regression\",\"Random Forest\",\"Support Vector Machine\",\"Naive Bayes\",\"Decision Tree\"]})\n",
    "comparison[\"Type\"]= \"CrossValid\"\n",
    "sns.barplot(\"ACC\",\"Algorithm\",data = comparison, palette=\"Set3\",orient = \"h\",**{'xerr':stds})\n",
    "# comp_g.set_xlabel(\"Mean Accuracy\")\n",
    "# comp_g = comp_g.set_title(\"Cross validation scores\")"
   ]
  }
 ],
 "metadata": {
  "celltoolbar": "Slideshow",
  "kernelspec": {
   "display_name": "Python 3",
   "language": "python",
   "name": "python3"
  },
  "language_info": {
   "codemirror_mode": {
    "name": "ipython",
    "version": 3
   },
   "file_extension": ".py",
   "mimetype": "text/x-python",
   "name": "python",
   "nbconvert_exporter": "python",
   "pygments_lexer": "ipython3",
   "version": "3.6.3"
  }
 },
 "nbformat": 4,
 "nbformat_minor": 2
}
